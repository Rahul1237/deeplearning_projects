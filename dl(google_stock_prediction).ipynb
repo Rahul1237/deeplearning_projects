{
 "cells": [
  {
   "cell_type": "code",
   "execution_count": 1,
   "id": "e52d4e85",
   "metadata": {},
   "outputs": [],
   "source": [
    "\n",
    "import pandas as pd\n",
    "import numpy as np\n",
    "import matplotlib.pyplot as plt"
   ]
  },
  {
   "cell_type": "code",
   "execution_count": 2,
   "id": "886a4398",
   "metadata": {},
   "outputs": [],
   "source": [
    "training_set = pd.read_csv('C:\\\\Users\\\\dell\\\\Downloads\\\\Compressed\\\\P16-Recurrent-Neural-Networks\\\\Part 3 - Recurrent Neural Networks\\\\Google_Stock_Price_Train.csv')"
   ]
  },
  {
   "cell_type": "code",
   "execution_count": 3,
   "id": "c4381926",
   "metadata": {},
   "outputs": [
    {
     "data": {
      "text/plain": [
       "array([[325.25],\n",
       "       [331.27],\n",
       "       [329.83],\n",
       "       ...,\n",
       "       [793.7 ],\n",
       "       [783.33],\n",
       "       [782.75]])"
      ]
     },
     "execution_count": 3,
     "metadata": {},
     "output_type": "execute_result"
    }
   ],
   "source": [
    "training_set = training_set.iloc[:, 1:2].values\n",
    "training_set"
   ]
  },
  {
   "cell_type": "code",
   "execution_count": 4,
   "id": "83b1f03a",
   "metadata": {},
   "outputs": [],
   "source": [
    "from sklearn.preprocessing import MinMaxScaler"
   ]
  },
  {
   "cell_type": "code",
   "execution_count": 5,
   "id": "99b56845",
   "metadata": {},
   "outputs": [],
   "source": [
    "Sc = MinMaxScaler()\n",
    "training_set = Sc.fit_transform(training_set)"
   ]
  },
  {
   "cell_type": "code",
   "execution_count": 6,
   "id": "c4ee126e",
   "metadata": {},
   "outputs": [
    {
     "data": {
      "text/plain": [
       "array([[0.08581368],\n",
       "       [0.09701243],\n",
       "       [0.09433366],\n",
       "       ...,\n",
       "       [0.95725128],\n",
       "       [0.93796041],\n",
       "       [0.93688146]])"
      ]
     },
     "execution_count": 6,
     "metadata": {},
     "output_type": "execute_result"
    }
   ],
   "source": [
    "training_set"
   ]
  },
  {
   "cell_type": "code",
   "execution_count": 7,
   "id": "1e4a2937",
   "metadata": {},
   "outputs": [],
   "source": [
    "X_train = training_set[0:1257]\n",
    "y_train = training_set[1:1258]"
   ]
  },
  {
   "cell_type": "code",
   "execution_count": 8,
   "id": "f7757985",
   "metadata": {},
   "outputs": [
    {
     "data": {
      "text/plain": [
       "array([[[0.08581368]],\n",
       "\n",
       "       [[0.09701243]],\n",
       "\n",
       "       [[0.09433366]],\n",
       "\n",
       "       ...,\n",
       "\n",
       "       [[0.95163331]],\n",
       "\n",
       "       [[0.95725128]],\n",
       "\n",
       "       [[0.93796041]]])"
      ]
     },
     "execution_count": 8,
     "metadata": {},
     "output_type": "execute_result"
    }
   ],
   "source": [
    "X_train = np.reshape(X_train, (1257, 1, 1))\n",
    "X_train"
   ]
  },
  {
   "cell_type": "code",
   "execution_count": 9,
   "id": "6ad15414",
   "metadata": {},
   "outputs": [],
   "source": [
    "from keras.models import Sequential\n",
    "from keras.layers import Dense\n",
    "from keras.layers import LSTM"
   ]
  },
  {
   "cell_type": "code",
   "execution_count": 10,
   "id": "1635b9b6",
   "metadata": {},
   "outputs": [],
   "source": [
    "classifier = Sequential()"
   ]
  },
  {
   "cell_type": "code",
   "execution_count": 11,
   "id": "b8255cb5",
   "metadata": {},
   "outputs": [
    {
     "name": "stdout",
     "output_type": "stream",
     "text": [
      "Epoch 1/200\n",
      "40/40 [==============================] - 1s 955us/step - loss: 0.9898\n",
      "Epoch 2/200\n",
      "40/40 [==============================] - 0s 937us/step - loss: 0.8142\n",
      "Epoch 3/200\n",
      "40/40 [==============================] - 0s 936us/step - loss: 0.6677\n",
      "Epoch 4/200\n",
      "40/40 [==============================] - 0s 973us/step - loss: 0.5455\n",
      "Epoch 5/200\n",
      "40/40 [==============================] - 0s 978us/step - loss: 0.4442\n",
      "Epoch 6/200\n",
      "40/40 [==============================] - 0s 994us/step - loss: 0.3612\n",
      "Epoch 7/200\n",
      "40/40 [==============================] - 0s 984us/step - loss: 0.2934\n",
      "Epoch 8/200\n",
      "40/40 [==============================] - 0s 940us/step - loss: 0.2386\n",
      "Epoch 9/200\n",
      "40/40 [==============================] - 0s 989us/step - loss: 0.1948\n",
      "Epoch 10/200\n",
      "40/40 [==============================] - 0s 946us/step - loss: 0.1604\n",
      "Epoch 11/200\n",
      "40/40 [==============================] - 0s 1ms/step - loss: 0.1338\n",
      "Epoch 12/200\n",
      "40/40 [==============================] - 0s 970us/step - loss: 0.1136\n",
      "Epoch 13/200\n",
      "40/40 [==============================] - 0s 965us/step - loss: 0.0984\n",
      "Epoch 14/200\n",
      "40/40 [==============================] - 0s 964us/step - loss: 0.0873\n",
      "Epoch 15/200\n",
      "40/40 [==============================] - 0s 922us/step - loss: 0.0793\n",
      "Epoch 16/200\n",
      "40/40 [==============================] - 0s 962us/step - loss: 0.0735\n",
      "Epoch 17/200\n",
      "40/40 [==============================] - 0s 957us/step - loss: 0.0695\n",
      "Epoch 18/200\n",
      "40/40 [==============================] - 0s 949us/step - loss: 0.0667\n",
      "Epoch 19/200\n",
      "40/40 [==============================] - 0s 969us/step - loss: 0.0646\n",
      "Epoch 20/200\n",
      "40/40 [==============================] - 0s 936us/step - loss: 0.0632\n",
      "Epoch 21/200\n",
      "40/40 [==============================] - 0s 945us/step - loss: 0.0622\n",
      "Epoch 22/200\n",
      "40/40 [==============================] - 0s 951us/step - loss: 0.0613\n",
      "Epoch 23/200\n",
      "40/40 [==============================] - 0s 906us/step - loss: 0.0606\n",
      "Epoch 24/200\n",
      "40/40 [==============================] - 0s 956us/step - loss: 0.0600\n",
      "Epoch 25/200\n",
      "40/40 [==============================] - 0s 937us/step - loss: 0.0594\n",
      "Epoch 26/200\n",
      "40/40 [==============================] - 0s 958us/step - loss: 0.0589\n",
      "Epoch 27/200\n",
      "40/40 [==============================] - 0s 974us/step - loss: 0.0583\n",
      "Epoch 28/200\n",
      "40/40 [==============================] - 0s 924us/step - loss: 0.0578\n",
      "Epoch 29/200\n",
      "40/40 [==============================] - 0s 944us/step - loss: 0.0572\n",
      "Epoch 30/200\n",
      "40/40 [==============================] - 0s 932us/step - loss: 0.0566\n",
      "Epoch 31/200\n",
      "40/40 [==============================] - 0s 946us/step - loss: 0.0560\n",
      "Epoch 32/200\n",
      "40/40 [==============================] - 0s 954us/step - loss: 0.0554\n",
      "Epoch 33/200\n",
      "40/40 [==============================] - 0s 946us/step - loss: 0.0548\n",
      "Epoch 34/200\n",
      "40/40 [==============================] - 0s 947us/step - loss: 0.0541\n",
      "Epoch 35/200\n",
      "40/40 [==============================] - 0s 928us/step - loss: 0.0535\n",
      "Epoch 36/200\n",
      "40/40 [==============================] - 0s 953us/step - loss: 0.0528\n",
      "Epoch 37/200\n",
      "40/40 [==============================] - 0s 949us/step - loss: 0.0521\n",
      "Epoch 38/200\n",
      "40/40 [==============================] - 0s 942us/step - loss: 0.0514\n",
      "Epoch 39/200\n",
      "40/40 [==============================] - 0s 934us/step - loss: 0.0507\n",
      "Epoch 40/200\n",
      "40/40 [==============================] - 0s 934us/step - loss: 0.0500\n",
      "Epoch 41/200\n",
      "40/40 [==============================] - 0s 901us/step - loss: 0.0492\n",
      "Epoch 42/200\n",
      "40/40 [==============================] - 0s 984us/step - loss: 0.0484\n",
      "Epoch 43/200\n",
      "40/40 [==============================] - 0s 979us/step - loss: 0.0476\n",
      "Epoch 44/200\n",
      "40/40 [==============================] - 0s 989us/step - loss: 0.0468\n",
      "Epoch 45/200\n",
      "40/40 [==============================] - 0s 942us/step - loss: 0.0460\n",
      "Epoch 46/200\n",
      "40/40 [==============================] - 0s 960us/step - loss: 0.0451\n",
      "Epoch 47/200\n",
      "40/40 [==============================] - 0s 955us/step - loss: 0.0442\n",
      "Epoch 48/200\n",
      "40/40 [==============================] - 0s 975us/step - loss: 0.0433\n",
      "Epoch 49/200\n",
      "40/40 [==============================] - 0s 1ms/step - loss: 0.0424\n",
      "Epoch 50/200\n",
      "40/40 [==============================] - 0s 974us/step - loss: 0.0415\n",
      "Epoch 51/200\n",
      "40/40 [==============================] - 0s 985us/step - loss: 0.0405\n",
      "Epoch 52/200\n",
      "40/40 [==============================] - 0s 1ms/step - loss: 0.0395\n",
      "Epoch 53/200\n",
      "40/40 [==============================] - 0s 995us/step - loss: 0.0385\n",
      "Epoch 54/200\n",
      "40/40 [==============================] - 0s 937us/step - loss: 0.0375\n",
      "Epoch 55/200\n",
      "40/40 [==============================] - 0s 940us/step - loss: 0.0365\n",
      "Epoch 56/200\n",
      "40/40 [==============================] - 0s 906us/step - loss: 0.0354\n",
      "Epoch 57/200\n",
      "40/40 [==============================] - 0s 919us/step - loss: 0.0344\n",
      "Epoch 58/200\n",
      "40/40 [==============================] - 0s 946us/step - loss: 0.0333\n",
      "Epoch 59/200\n",
      "40/40 [==============================] - 0s 900us/step - loss: 0.0322\n",
      "Epoch 60/200\n",
      "40/40 [==============================] - 0s 975us/step - loss: 0.0311\n",
      "Epoch 61/200\n",
      "40/40 [==============================] - 0s 934us/step - loss: 0.0300\n",
      "Epoch 62/200\n",
      "40/40 [==============================] - 0s 970us/step - loss: 0.0288\n",
      "Epoch 63/200\n",
      "40/40 [==============================] - 0s 962us/step - loss: 0.0277\n",
      "Epoch 64/200\n",
      "40/40 [==============================] - 0s 946us/step - loss: 0.0266\n",
      "Epoch 65/200\n",
      "40/40 [==============================] - 0s 929us/step - loss: 0.0255\n",
      "Epoch 66/200\n",
      "40/40 [==============================] - 0s 946us/step - loss: 0.0243\n",
      "Epoch 67/200\n",
      "40/40 [==============================] - 0s 949us/step - loss: 0.0232\n",
      "Epoch 68/200\n",
      "40/40 [==============================] - 0s 938us/step - loss: 0.0220\n",
      "Epoch 69/200\n",
      "40/40 [==============================] - 0s 960us/step - loss: 0.0209\n",
      "Epoch 70/200\n",
      "40/40 [==============================] - 0s 928us/step - loss: 0.0198\n",
      "Epoch 71/200\n",
      "40/40 [==============================] - 0s 981us/step - loss: 0.0187\n",
      "Epoch 72/200\n",
      "40/40 [==============================] - 0s 945us/step - loss: 0.0176\n",
      "Epoch 73/200\n",
      "40/40 [==============================] - 0s 989us/step - loss: 0.0165\n",
      "Epoch 74/200\n",
      "40/40 [==============================] - 0s 969us/step - loss: 0.0155\n",
      "Epoch 75/200\n",
      "40/40 [==============================] - 0s 951us/step - loss: 0.0145\n",
      "Epoch 76/200\n",
      "40/40 [==============================] - 0s 981us/step - loss: 0.0135\n",
      "Epoch 77/200\n",
      "40/40 [==============================] - 0s 921us/step - loss: 0.0126\n",
      "Epoch 78/200\n",
      "40/40 [==============================] - 0s 963us/step - loss: 0.0116\n",
      "Epoch 79/200\n",
      "40/40 [==============================] - 0s 982us/step - loss: 0.0108\n",
      "Epoch 80/200\n",
      "40/40 [==============================] - 0s 959us/step - loss: 0.0099\n",
      "Epoch 81/200\n",
      "40/40 [==============================] - 0s 949us/step - loss: 0.0091\n",
      "Epoch 82/200\n",
      "40/40 [==============================] - 0s 950us/step - loss: 0.0084\n",
      "Epoch 83/200\n",
      "40/40 [==============================] - 0s 985us/step - loss: 0.0077\n",
      "Epoch 84/200\n",
      "40/40 [==============================] - 0s 943us/step - loss: 0.0070\n",
      "Epoch 85/200\n",
      "40/40 [==============================] - 0s 942us/step - loss: 0.0063\n",
      "Epoch 86/200\n",
      "40/40 [==============================] - 0s 926us/step - loss: 0.0058\n",
      "Epoch 87/200\n",
      "40/40 [==============================] - 0s 943us/step - loss: 0.0052\n",
      "Epoch 88/200\n",
      "40/40 [==============================] - 0s 946us/step - loss: 0.0047\n",
      "Epoch 89/200\n",
      "40/40 [==============================] - 0s 975us/step - loss: 0.0042\n",
      "Epoch 90/200\n",
      "40/40 [==============================] - 0s 929us/step - loss: 0.0038\n",
      "Epoch 91/200\n",
      "40/40 [==============================] - 0s 981us/step - loss: 0.0034\n",
      "Epoch 92/200\n",
      "40/40 [==============================] - 0s 955us/step - loss: 0.0031\n",
      "Epoch 93/200\n",
      "40/40 [==============================] - 0s 955us/step - loss: 0.0028\n",
      "Epoch 94/200\n",
      "40/40 [==============================] - 0s 951us/step - loss: 0.0025\n",
      "Epoch 95/200\n",
      "40/40 [==============================] - 0s 936us/step - loss: 0.0022\n",
      "Epoch 96/200\n",
      "40/40 [==============================] - 0s 957us/step - loss: 0.0020\n",
      "Epoch 97/200\n",
      "40/40 [==============================] - 0s 905us/step - loss: 0.0018\n",
      "Epoch 98/200\n",
      "40/40 [==============================] - 0s 918us/step - loss: 0.0017\n",
      "Epoch 99/200\n"
     ]
    },
    {
     "name": "stdout",
     "output_type": "stream",
     "text": [
      "40/40 [==============================] - 0s 973us/step - loss: 0.0015\n",
      "Epoch 100/200\n",
      "40/40 [==============================] - 0s 873us/step - loss: 0.0014\n",
      "Epoch 101/200\n",
      "40/40 [==============================] - 0s 936us/step - loss: 0.0013\n",
      "Epoch 102/200\n",
      "40/40 [==============================] - 0s 912us/step - loss: 0.0012\n",
      "Epoch 103/200\n",
      "40/40 [==============================] - 0s 940us/step - loss: 0.0011\n",
      "Epoch 104/200\n",
      "40/40 [==============================] - 0s 929us/step - loss: 0.0010\n",
      "Epoch 105/200\n",
      "40/40 [==============================] - 0s 909us/step - loss: 9.6051e-04\n",
      "Epoch 106/200\n",
      "40/40 [==============================] - 0s 898us/step - loss: 9.1051e-04\n",
      "Epoch 107/200\n",
      "40/40 [==============================] - 0s 888us/step - loss: 8.6640e-04\n",
      "Epoch 108/200\n",
      "40/40 [==============================] - 0s 945us/step - loss: 8.3097e-04\n",
      "Epoch 109/200\n",
      "40/40 [==============================] - 0s 945us/step - loss: 8.0070e-04\n",
      "Epoch 110/200\n",
      "40/40 [==============================] - 0s 946us/step - loss: 7.7189e-04\n",
      "Epoch 111/200\n",
      "40/40 [==============================] - 0s 957us/step - loss: 7.4909e-04\n",
      "Epoch 112/200\n",
      "40/40 [==============================] - 0s 947us/step - loss: 7.3230e-04\n",
      "Epoch 113/200\n",
      "40/40 [==============================] - 0s 940us/step - loss: 7.1212e-04\n",
      "Epoch 114/200\n",
      "40/40 [==============================] - 0s 997us/step - loss: 6.9712e-04\n",
      "Epoch 115/200\n",
      "40/40 [==============================] - 0s 958us/step - loss: 6.8563e-04\n",
      "Epoch 116/200\n",
      "40/40 [==============================] - 0s 961us/step - loss: 6.7277e-04\n",
      "Epoch 117/200\n",
      "40/40 [==============================] - 0s 978us/step - loss: 6.6128e-04\n",
      "Epoch 118/200\n",
      "40/40 [==============================] - 0s 972us/step - loss: 6.5163e-04\n",
      "Epoch 119/200\n",
      "40/40 [==============================] - 0s 940us/step - loss: 6.4167e-04\n",
      "Epoch 120/200\n",
      "40/40 [==============================] - 0s 945us/step - loss: 6.3365e-04\n",
      "Epoch 121/200\n",
      "40/40 [==============================] - 0s 994us/step - loss: 6.2546e-04\n",
      "Epoch 122/200\n",
      "40/40 [==============================] - 0s 958us/step - loss: 6.1658e-04\n",
      "Epoch 123/200\n",
      "40/40 [==============================] - 0s 957us/step - loss: 6.0934e-04\n",
      "Epoch 124/200\n",
      "40/40 [==============================] - 0s 1ms/step - loss: 6.0354e-04\n",
      "Epoch 125/200\n",
      "40/40 [==============================] - 0s 979us/step - loss: 5.9440e-04\n",
      "Epoch 126/200\n",
      "40/40 [==============================] - 0s 963us/step - loss: 5.8762e-04\n",
      "Epoch 127/200\n",
      "40/40 [==============================] - 0s 979us/step - loss: 5.7949e-04\n",
      "Epoch 128/200\n",
      "40/40 [==============================] - 0s 936us/step - loss: 5.7324e-04\n",
      "Epoch 129/200\n",
      "40/40 [==============================] - 0s 931us/step - loss: 5.6572e-04\n",
      "Epoch 130/200\n",
      "40/40 [==============================] - 0s 923us/step - loss: 5.5880e-04\n",
      "Epoch 131/200\n",
      "40/40 [==============================] - 0s 948us/step - loss: 5.5117e-04\n",
      "Epoch 132/200\n",
      "40/40 [==============================] - 0s 926us/step - loss: 5.4502e-04\n",
      "Epoch 133/200\n",
      "40/40 [==============================] - 0s 902us/step - loss: 5.3887e-04\n",
      "Epoch 134/200\n",
      "40/40 [==============================] - 0s 945us/step - loss: 5.3294e-04\n",
      "Epoch 135/200\n",
      "40/40 [==============================] - 0s 940us/step - loss: 5.2579e-04\n",
      "Epoch 136/200\n",
      "40/40 [==============================] - 0s 947us/step - loss: 5.1979e-04\n",
      "Epoch 137/200\n",
      "40/40 [==============================] - 0s 937us/step - loss: 5.1173e-04\n",
      "Epoch 138/200\n",
      "40/40 [==============================] - 0s 930us/step - loss: 5.0533e-04\n",
      "Epoch 139/200\n",
      "40/40 [==============================] - 0s 927us/step - loss: 4.9921e-04\n",
      "Epoch 140/200\n",
      "40/40 [==============================] - 0s 963us/step - loss: 4.9263e-04\n",
      "Epoch 141/200\n",
      "40/40 [==============================] - 0s 929us/step - loss: 4.8735e-04\n",
      "Epoch 142/200\n",
      "40/40 [==============================] - 0s 941us/step - loss: 4.8059e-04\n",
      "Epoch 143/200\n",
      "40/40 [==============================] - 0s 976us/step - loss: 4.7435e-04\n",
      "Epoch 144/200\n",
      "40/40 [==============================] - 0s 892us/step - loss: 4.6843e-04\n",
      "Epoch 145/200\n",
      "40/40 [==============================] - 0s 990us/step - loss: 4.6295e-04\n",
      "Epoch 146/200\n",
      "40/40 [==============================] - 0s 915us/step - loss: 4.5718e-04\n",
      "Epoch 147/200\n",
      "40/40 [==============================] - 0s 941us/step - loss: 4.5127e-04\n",
      "Epoch 148/200\n",
      "40/40 [==============================] - 0s 945us/step - loss: 4.4614e-04\n",
      "Epoch 149/200\n",
      "40/40 [==============================] - 0s 983us/step - loss: 4.4088e-04\n",
      "Epoch 150/200\n",
      "40/40 [==============================] - 0s 903us/step - loss: 4.3521e-04\n",
      "Epoch 151/200\n",
      "40/40 [==============================] - 0s 924us/step - loss: 4.2995e-04\n",
      "Epoch 152/200\n",
      "40/40 [==============================] - 0s 950us/step - loss: 4.2522e-04\n",
      "Epoch 153/200\n",
      "40/40 [==============================] - 0s 942us/step - loss: 4.2181e-04\n",
      "Epoch 154/200\n",
      "40/40 [==============================] - 0s 959us/step - loss: 4.1556e-04\n",
      "Epoch 155/200\n",
      "40/40 [==============================] - 0s 931us/step - loss: 4.1028e-04\n",
      "Epoch 156/200\n",
      "40/40 [==============================] - 0s 923us/step - loss: 4.0622e-04\n",
      "Epoch 157/200\n",
      "40/40 [==============================] - 0s 924us/step - loss: 4.0064e-04\n",
      "Epoch 158/200\n",
      "40/40 [==============================] - 0s 952us/step - loss: 3.9799e-04\n",
      "Epoch 159/200\n",
      "40/40 [==============================] - 0s 947us/step - loss: 3.9217e-04\n",
      "Epoch 160/200\n",
      "40/40 [==============================] - 0s 959us/step - loss: 3.8846e-04\n",
      "Epoch 161/200\n",
      "40/40 [==============================] - 0s 908us/step - loss: 3.8280e-04\n",
      "Epoch 162/200\n",
      "40/40 [==============================] - 0s 905us/step - loss: 3.8170e-04\n",
      "Epoch 163/200\n",
      "40/40 [==============================] - 0s 942us/step - loss: 3.7633e-04\n",
      "Epoch 164/200\n",
      "40/40 [==============================] - 0s 907us/step - loss: 3.7178e-04\n",
      "Epoch 165/200\n",
      "40/40 [==============================] - 0s 925us/step - loss: 3.6865e-04\n",
      "Epoch 166/200\n",
      "40/40 [==============================] - 0s 886us/step - loss: 3.6404e-04\n",
      "Epoch 167/200\n",
      "40/40 [==============================] - 0s 949us/step - loss: 3.6113e-04\n",
      "Epoch 168/200\n",
      "40/40 [==============================] - 0s 958us/step - loss: 3.5794e-04\n",
      "Epoch 169/200\n",
      "40/40 [==============================] - 0s 938us/step - loss: 3.5412e-04\n",
      "Epoch 170/200\n",
      "40/40 [==============================] - 0s 965us/step - loss: 3.5005e-04\n",
      "Epoch 171/200\n",
      "40/40 [==============================] - 0s 964us/step - loss: 3.4657e-04\n",
      "Epoch 172/200\n",
      "40/40 [==============================] - 0s 979us/step - loss: 3.4363e-04\n",
      "Epoch 173/200\n",
      "40/40 [==============================] - 0s 1ms/step - loss: 3.4029e-04\n",
      "Epoch 174/200\n",
      "40/40 [==============================] - 0s 960us/step - loss: 3.3859e-04\n",
      "Epoch 175/200\n",
      "40/40 [==============================] - 0s 938us/step - loss: 3.3560e-04\n",
      "Epoch 176/200\n",
      "40/40 [==============================] - 0s 933us/step - loss: 3.3218e-04\n",
      "Epoch 177/200\n",
      "40/40 [==============================] - 0s 922us/step - loss: 3.2940e-04\n",
      "Epoch 178/200\n",
      "40/40 [==============================] - 0s 1ms/step - loss: 3.2711e-04\n",
      "Epoch 179/200\n",
      "40/40 [==============================] - 0s 950us/step - loss: 3.2441e-04\n",
      "Epoch 180/200\n",
      "40/40 [==============================] - 0s 932us/step - loss: 3.2207e-04\n",
      "Epoch 181/200\n",
      "40/40 [==============================] - 0s 934us/step - loss: 3.1962e-04\n",
      "Epoch 182/200\n",
      "40/40 [==============================] - 0s 940us/step - loss: 3.1646e-04\n",
      "Epoch 183/200\n",
      "40/40 [==============================] - 0s 971us/step - loss: 3.1625e-04\n",
      "Epoch 184/200\n",
      "40/40 [==============================] - 0s 945us/step - loss: 3.1245e-04\n",
      "Epoch 185/200\n",
      "40/40 [==============================] - 0s 965us/step - loss: 3.0982e-04\n",
      "Epoch 186/200\n",
      "40/40 [==============================] - 0s 955us/step - loss: 3.0798e-04\n",
      "Epoch 187/200\n",
      "40/40 [==============================] - 0s 988us/step - loss: 3.0567e-04\n",
      "Epoch 188/200\n",
      "40/40 [==============================] - 0s 960us/step - loss: 3.0432e-04\n",
      "Epoch 189/200\n",
      "40/40 [==============================] - 0s 947us/step - loss: 3.0283e-04\n",
      "Epoch 190/200\n",
      "40/40 [==============================] - 0s 994us/step - loss: 3.0003e-04\n",
      "Epoch 191/200\n",
      "40/40 [==============================] - 0s 941us/step - loss: 2.9906e-04\n",
      "Epoch 192/200\n"
     ]
    },
    {
     "name": "stdout",
     "output_type": "stream",
     "text": [
      "40/40 [==============================] - 0s 980us/step - loss: 2.9808e-04\n",
      "Epoch 193/200\n",
      "40/40 [==============================] - 0s 981us/step - loss: 2.9492e-04\n",
      "Epoch 194/200\n",
      "40/40 [==============================] - 0s 963us/step - loss: 2.9465e-04\n",
      "Epoch 195/200\n",
      "40/40 [==============================] - 0s 976us/step - loss: 2.9486e-04\n",
      "Epoch 196/200\n",
      "40/40 [==============================] - 0s 977us/step - loss: 2.9037e-04\n",
      "Epoch 197/200\n",
      "40/40 [==============================] - 0s 982us/step - loss: 2.9319e-04\n",
      "Epoch 198/200\n",
      "40/40 [==============================] - 0s 939us/step - loss: 2.8745e-04\n",
      "Epoch 199/200\n",
      "40/40 [==============================] - 0s 938us/step - loss: 2.8633e-04\n",
      "Epoch 200/200\n",
      "40/40 [==============================] - 0s 955us/step - loss: 2.8628e-04\n"
     ]
    },
    {
     "data": {
      "text/plain": [
       "<keras.callbacks.History at 0x2791cb92c70>"
      ]
     },
     "execution_count": 11,
     "metadata": {},
     "output_type": "execute_result"
    }
   ],
   "source": [
    "classifier.add(LSTM(units = 4, activation = 'sigmoid',input_shape = (None, 1)))\n",
    "classifier.add(Dense(units = 1))\n",
    "classifier.compile(optimizer='adam',loss = 'mean_squared_error')\n",
    "classifier.fit(X_train,y_train,batch_size=32,epochs = 200)"
   ]
  },
  {
   "cell_type": "code",
   "execution_count": 12,
   "id": "724b6f74",
   "metadata": {},
   "outputs": [],
   "source": [
    "test_set = pd.read_csv('C:\\\\Users\\\\dell\\\\Downloads\\\\Compressed\\\\P16-Recurrent-Neural-Networks\\\\Part 3 - Recurrent Neural Networks\\\\Google_Stock_Price_Test.csv')"
   ]
  },
  {
   "cell_type": "code",
   "execution_count": 13,
   "id": "8ff3bd40",
   "metadata": {},
   "outputs": [
    {
     "data": {
      "text/plain": [
       "array([[778.81],\n",
       "       [788.36],\n",
       "       [786.08],\n",
       "       [795.26],\n",
       "       [806.4 ],\n",
       "       [807.86],\n",
       "       [805.  ],\n",
       "       [807.14],\n",
       "       [807.48],\n",
       "       [807.08],\n",
       "       [805.81],\n",
       "       [805.12],\n",
       "       [806.91],\n",
       "       [807.25],\n",
       "       [822.3 ],\n",
       "       [829.62],\n",
       "       [837.81],\n",
       "       [834.71],\n",
       "       [814.66],\n",
       "       [796.86]])"
      ]
     },
     "execution_count": 13,
     "metadata": {},
     "output_type": "execute_result"
    }
   ],
   "source": [
    "real_stock_price = test_set.iloc[:, 1:2].values\n",
    "real_stock_price"
   ]
  },
  {
   "cell_type": "code",
   "execution_count": 14,
   "id": "27a5e5db",
   "metadata": {},
   "outputs": [],
   "source": [
    "inputs = real_stock_price\n",
    "inputs = Sc.transform(inputs)"
   ]
  },
  {
   "cell_type": "code",
   "execution_count": 15,
   "id": "7f131573",
   "metadata": {},
   "outputs": [],
   "source": [
    "inputs = np.reshape(inputs, (20, 1, 1))\n",
    "predicted_stock_price = classifier.predict(inputs)\n",
    "predicted_stock_price = Sc.inverse_transform(predicted_stock_price)"
   ]
  },
  {
   "cell_type": "code",
   "execution_count": 16,
   "id": "a854954c",
   "metadata": {},
   "outputs": [
    {
     "data": {
      "image/png": "[encoded data removed]",
      "text/plain": [
       "<Figure size 432x288 with 1 Axes>"
      ]
     },
     "metadata": {
      "needs_background": "light"
     },
     "output_type": "display_data"
    }
   ],
   "source": [
    "plt.plot(real_stock_price,color = 'red',label = 'Real Google Stock Price')\n",
    "plt.plot(predicted_stock_price, color = 'blue',label = 'Predicted Google Stock Price')\n",
    "plt.title('Google Stock Price Prediction')\n",
    "plt.xlabel('Time')\n",
    "plt.ylabel('Google Stock Price')\n",
    "plt.legend()\n",
    "plt.show()"
   ]
  },
  {
   "cell_type": "code",
   "execution_count": 17,
   "id": "dba5a4e5",
   "metadata": {},
   "outputs": [],
   "source": [
    "import math\n",
    "from sklearn.metrics import mean_squared_error"
   ]
  },
  {
   "cell_type": "code",
   "execution_count": 18,
   "id": "da4db322",
   "metadata": {},
   "outputs": [
    {
     "data": {
      "text/plain": [
       "0.018175908258009875"
      ]
     },
     "execution_count": 18,
     "metadata": {},
     "output_type": "execute_result"
    }
   ],
   "source": [
    "res = math.sqrt(mean_squared_error(real_stock_price, predicted_stock_price ))\n",
    "res/800"
   ]
  },
  {
   "cell_type": "code",
   "execution_count": null,
   "id": "b9cf260f",
   "metadata": {},
   "outputs": [],
   "source": []
  }
 ],
 "metadata": {
  "kernelspec": {
   "display_name": "Python 3 (ipykernel)",
   "language": "python",
   "name": "python3"
  },
  "language_info": {
   "codemirror_mode": {
    "name": "ipython",
    "version": 3
   },
   "file_extension": ".py",
   "mimetype": "text/x-python",
   "name": "python",
   "nbconvert_exporter": "python",
   "pygments_lexer": "ipython3",
   "version": "3.9.12"
  }
 },
 "nbformat": 4,
 "nbformat_minor": 5
}
